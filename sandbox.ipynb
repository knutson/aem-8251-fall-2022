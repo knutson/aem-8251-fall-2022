{
 "cells": [
  {
   "cell_type": "markdown",
   "metadata": {},
   "source": [
    "# Heading One\n",
    "\n",
    "## Heading Two\n",
    "\n",
    "### Heading Three\n",
    "\n",
    "#### Heading Four\n",
    "\n",
    "*Italic Text*\n",
    "\n",
    "_Also Italic Text_\n",
    "\n",
    "**Bold Text**\n",
    "\n",
    "__Also Bold Text__\n",
    "\n",
    "Regular Text\n",
    "\n",
    "- Bullet 1\n",
    "* Bullet 2\n",
    "\n",
    "<!-- need 2 lines here or list is bullets -->\n",
    "1. List item 1\n",
    "2. List item 2\n",
    "\n"
   ]
  },
  {
   "cell_type": "code",
   "execution_count": 66,
   "metadata": {},
   "outputs": [
    {
     "data": {
      "image/png": "[encoded data removed]",
      "text/plain": [
       "<Figure size 432x288 with 1 Axes>"
      ]
     },
     "metadata": {
      "needs_background": "light"
     },
     "output_type": "display_data"
    }
   ],
   "source": [
    "import numpy as np\n",
    "import matplotlib.pyplot as plt\n",
    "\n",
    "n = 4*10+1 # index from 0 to 40\n",
    "x = np.linspace(0,2,n)\n",
    "u = 0.5*np.ones(n); u[0:10]=1\n",
    "ui = u # initial condition\n",
    "du = np.zeros(n)\n",
    "dx = x[1]-x[0]\n",
    "\n",
    "c = 1\n",
    "CFL = 1\n",
    "for n in range(10):\n",
    "    dt = CFL*dx/c\n",
    "    for i in range(1,41,1): # index 1 to 40\n",
    "        dudx = (u[i]-u[i-1])/(x[i]-x[i-1])\n",
    "        du[i]= -dt*c*dudx\n",
    "    u = u + du\n",
    "\n",
    "plt.plot(x,ui,'k--',label='initial')\n",
    "plt.plot(x,u,'-o',label='final')\n",
    "plt.xlabel('x'); plt.ylabel('u')\n",
    "plt.legend()\n",
    "plt.show()"
   ]
  },
  {
   "cell_type": "code",
   "execution_count": null,
   "metadata": {},
   "outputs": [],
   "source": []
  }
 ],
 "metadata": {
  "kernelspec": {
   "display_name": "Python 3",
   "language": "python",
   "name": "python3"
  },
  "language_info": {
   "codemirror_mode": {
    "name": "ipython",
    "version": 3
   },
   "file_extension": ".py",
   "mimetype": "text/x-python",
   "name": "python",
   "nbconvert_exporter": "python",
   "pygments_lexer": "ipython3",
   "version": "3.7.6"
  }
 },
 "nbformat": 4,
 "nbformat_minor": 4
}
