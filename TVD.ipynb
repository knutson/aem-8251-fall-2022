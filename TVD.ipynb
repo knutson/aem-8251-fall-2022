{
 "cells": [
  {
   "cell_type": "code",
   "execution_count": 45,
   "metadata": {},
   "outputs": [
    {
     "data": {
      "image/png": "[encoded data removed]",
      "text/plain": [
       "<Figure size 432x288 with 1 Axes>"
      ]
     },
     "metadata": {
      "needs_background": "light"
     },
     "output_type": "display_data"
    }
   ],
   "source": [
    "import numpy as np\n",
    "import matplotlib.pyplot as plt\n",
    "\n",
    "r = np.linspace(0,3,100)\n",
    "minmod = np.maximum(0,np.minimum(1,r))\n",
    "superb = np.maximum(np.maximum(0,np.minimum(2*r,1)),np.minimum(r,2)) # numpy minimum/maximum take only 2 arguments\n",
    "\n",
    "#minmod is lower bound\n",
    "#superbee is upper bound\n",
    "plt.fill_between(r, minmod, superb,\n",
    "                 color='grey', # fill color\n",
    "                 alpha=0.2)    # fill transparency\n",
    "\n",
    "# plt.plot(r,minmod,r,superb)\n",
    "# plt.ylim([0,2.5])\n",
    "\n",
    "# H.C. Yee/US3D\n",
    "r1 = np.ones(100)\n",
    "r2 = r\n",
    "sg = np.sign(r1)\n",
    "rlimv = sg*np.maximum(0,np.minimum(np.abs(r1),sg*r2))\n",
    "plt.plot(r,rlimv,'k')\n",
    "\n",
    "plt.show()\n",
    "\n",
    "\n"
   ]
  },
  {
   "cell_type": "code",
   "execution_count": null,
   "metadata": {},
   "outputs": [],
   "source": []
  },
  {
   "cell_type": "code",
   "execution_count": null,
   "metadata": {},
   "outputs": [],
   "source": []
  },
  {
   "cell_type": "code",
   "execution_count": null,
   "metadata": {},
   "outputs": [],
   "source": []
  },
  {
   "cell_type": "code",
   "execution_count": null,
   "metadata": {},
   "outputs": [],
   "source": []
  }
 ],
 "metadata": {
  "kernelspec": {
   "display_name": "Python 3",
   "language": "python",
   "name": "python3"
  },
  "language_info": {
   "codemirror_mode": {
    "name": "ipython",
    "version": 3
   },
   "file_extension": ".py",
   "mimetype": "text/x-python",
   "name": "python",
   "nbconvert_exporter": "python",
   "pygments_lexer": "ipython3",
   "version": "3.7.6"
  }
 },
 "nbformat": 4,
 "nbformat_minor": 4
}
